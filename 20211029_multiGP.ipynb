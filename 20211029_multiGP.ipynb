{
 "cells": [
  {
   "cell_type": "code",
   "execution_count": 26,
   "metadata": {},
   "outputs": [
    {
     "name": "stdout",
     "output_type": "stream",
     "text": [
      "   Unnamed: 0  입력하중  PIPE 길이  PIPE 직경  용접길이  A11  A12  A21  A22  D1  D2  \\\n",
      "0       CASE0   100      300       45    25    0    0    0    0  40  68   \n",
      "1       CASE1   100      300       45    25   40    0    0    0  40  68   \n",
      "2       CASE2   100      300       45    25    0   40    0    0  40  68   \n",
      "3       CASE3   100      300       45    25    0    0  -40    0  40  68   \n",
      "4       CASE4   100      300       45    25    0    0    0  -40  40  68   \n",
      "5       CASE5   100      300       45    25    0    0  -89    0  40  68   \n",
      "6       CASE6   100      300       45    25    0    0  -89    0  20  50   \n",
      "7       CASE7   100      300       45    25   40   40    0    0  40  68   \n",
      "8       CASE8   100      300       45    25   40    0  -40    0  40  68   \n",
      "9       CASE9   100      300       45    25   40    0    0  -40  40  68   \n",
      "10     CASE10   100      300       45    25    0   40  -40    0  40  68   \n",
      "11     CASE11   100      300       45    25    0   40    0  -40  40  68   \n",
      "13     CASE13   100      300       45    25   40   40  -40  -40  40  68   \n",
      "\n",
      "   Location  vonMises  \n",
      "0      PIPE   262.887  \n",
      "1      PIPE   288.555  \n",
      "2      PIPE   267.592  \n",
      "3      PIPE   350.837  \n",
      "4      PIPE   233.485  \n",
      "5      PIPE   361.570  \n",
      "6      PIPE   242.771  \n",
      "7      PIPE   281.390  \n",
      "8      PIPE   371.372  \n",
      "9      PIPE   248.533  \n",
      "10     PIPE   350.814  \n",
      "11     PIPE   212.221  \n",
      "13     Hrod   116.592  \n",
      "평가지표(the coefficient of determination of the prediction, r^2, 1 is best): 1.0\n",
      "Predicted value: [288.555], sigma: [1.07895932e-05]\n"
     ]
    }
   ],
   "source": [
    "from sklearn.datasets import make_friedman2\n",
    "from sklearn.gaussian_process import GaussianProcessRegressor\n",
    "from sklearn.gaussian_process.kernels import DotProduct, WhiteKernel\n",
    "from sklearn.gaussian_process.kernels import RBF, ConstantKernel\n",
    "from matplotlib import pyplot as plt\n",
    "\n",
    "import pandas as pd\n",
    "import numpy as np \n",
    "\n",
    "df = pd.read_csv('dataset_sejong.csv')\n",
    "df = df.dropna()\n",
    "print(df)\n",
    "#df = df[['A11', 'A12', 'A21', 'A22', 'D1', 'D2', 'vonMises']]\n",
    "X = np.array(df[['입력하중', 'PIPE 길이', 'PIPE 직경', '용접길이', 'A11', 'A12', 'A21', 'A22', 'D1', 'D2']])\n",
    "y = np.array(df[['vonMises']])\n",
    "kernel = DotProduct()\n",
    "kernel = RBF() + ConstantKernel(constant_value=2)\n",
    "gpr = GaussianProcessRegressor(kernel=kernel,  random_state=0).fit(X, y)\n",
    "print(f'평가지표(the coefficient of determination of the prediction, r^2, 1 is best): {gpr.score(X, y)}')\n",
    "\n",
    "x = [100, 300, 45, 25, 40,  0,  0,  0, 40, 68]\n",
    "y_pred, sigma = gpr.predict([x], return_std=True)\n",
    "print(f'Predicted value: {y_pred[0]}, sigma: {sigma}')\n"
   ]
  },
  {
   "cell_type": "code",
   "execution_count": null,
   "metadata": {},
   "outputs": [],
   "source": []
  }
 ],
 "metadata": {
  "interpreter": {
   "hash": "949777d72b0d2535278d3dc13498b2535136f6dfe0678499012e853ee9abcab1"
  },
  "kernelspec": {
   "display_name": "Python 3.9.7 64-bit",
   "name": "python3"
  },
  "language_info": {
   "codemirror_mode": {
    "name": "ipython",
    "version": 3
   },
   "file_extension": ".py",
   "mimetype": "text/x-python",
   "name": "python",
   "nbconvert_exporter": "python",
   "pygments_lexer": "ipython3",
   "version": "3.9.7"
  }
 },
 "nbformat": 4,
 "nbformat_minor": 5
}
