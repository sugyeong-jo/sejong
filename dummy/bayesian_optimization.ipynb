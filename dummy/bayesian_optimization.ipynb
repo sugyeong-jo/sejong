{
 "cells": [
  {
   "cell_type": "code",
   "execution_count": 59,
   "metadata": {},
   "outputs": [],
   "source": [
    "from itertools import product\n",
    "import numpy as np\n",
    "from matplotlib import pyplot as plt\n",
    "from mpl_toolkits.mplot3d import Axes3D\n",
    "\n",
    "from sklearn.gaussian_process import GaussianProcessRegressor\n",
    "from sklearn.gaussian_process.kernels import RBF, ConstantKernel as C\n",
    "\n",
    "df = pd.read_csv('dataset.csv')\n",
    "X = np.array(df[['f1', 'f2']])\n",
    "y = df['value']\n",
    "\n",
    "\n",
    "# Input space\n",
    "x1 = np.linspace(X[:,0].min(), X[:,0].max()) #p\n",
    "x2 = np.linspace(X[:,1].min(), X[:,1].max()) #q\n",
    "# x3 = np.linspace(X[:,2].min(), X[:,2].max()) #p\n",
    "# x4 = np.linspace(X[:,3].min(), X[:,3].max()) #q\n",
    "\n",
    "x = (np.array([x1, x2])).T\n",
    "\n",
    "#kernel = C(1.0, (1e-3, 1e3)) * RBF([5,5], (1e-2, 1e2))\n",
    "gp = GaussianProcessRegressor( n_restarts_optimizer=15)\n",
    "\n",
    "gp.fit(X, y)\n",
    "\n",
    "x1x2x3x4 = np.array(list(product(x1, x2)))\n",
    "y_pred, MSE = gp.predict(x1x2x3x4, return_std=True)\n",
    "\n",
    "# X0p, X1p = x1x2[:,0].reshape(50,50), x1x2[:,1].reshape(50,50)\n",
    "# Zp = np.reshape(y_pred,(50,50))\n",
    "\n",
    "# alternative way to generate equivalent X0p, X1p, Zp\n",
    "# X0p, X1p = np.meshgrid(x1, x2)\n",
    "# Zp = [gp.predict([(X0p[i, j], X1p[i, j]) for i in range(X0p.shape[0])]) for j in range(X0p.shape[1])]\n",
    "# Zp = np.array(Zp).T\n",
    "\n",
    "# fig = plt.figure(figsize=(10,8))\n",
    "#ax = fig.add_subplot(111)\n",
    "#ax.pcolormesh(X0p, X1p, Zp)\n",
    "# ax = fig.add_subplot(111, projection='3d')            \n",
    "# surf = ax.plot_surface(X0p, X1p, Zp, rstride=1, cstride=1, cmap='jet', linewidth=0, antialiased=False)\n",
    "\n",
    "# plt.show()"
   ]
  },
  {
   "cell_type": "code",
   "execution_count": 80,
   "metadata": {},
   "outputs": [
    {
     "name": "stdout",
     "output_type": "stream",
     "text": [
      "1.7.1\n"
     ]
    }
   ],
   "source": [
    "import numpy as np\n",
    "import pandas as pd\n",
    "import scipy\n",
    "from tqdm import tqdm\n",
    "print(scipy.__version__)\n",
    "\n",
    "\n",
    "def costly_function(x):\n",
    "    total = np.array([])\n",
    "    for x_i in x:\n",
    "        total = np.append(total, np.sum(np.exp(-(x_i - 5) ** 2)))\n",
    "    \n",
    "    return total + np.random.randn()\n",
    "\n",
    "def costly_function(x):\n",
    "    y_pred, MSE = gp.predict(np.array(x), return_std=True)\n",
    "    return y_pred[0]"
   ]
  },
  {
   "cell_type": "code",
   "execution_count": 82,
   "metadata": {},
   "outputs": [
    {
     "name": "stdout",
     "output_type": "stream",
     "text": [
      "7.202818393707275\n"
     ]
    },
    {
     "data": {
      "text/html": [
       "<div>\n",
       "<style scoped>\n",
       "    .dataframe tbody tr th:only-of-type {\n",
       "        vertical-align: middle;\n",
       "    }\n",
       "\n",
       "    .dataframe tbody tr th {\n",
       "        vertical-align: top;\n",
       "    }\n",
       "\n",
       "    .dataframe thead th {\n",
       "        text-align: right;\n",
       "    }\n",
       "</style>\n",
       "<table border=\"1\" class=\"dataframe\">\n",
       "  <thead>\n",
       "    <tr style=\"text-align: right;\">\n",
       "      <th></th>\n",
       "      <th>y</th>\n",
       "      <th>x0</th>\n",
       "      <th>x1</th>\n",
       "    </tr>\n",
       "  </thead>\n",
       "  <tbody>\n",
       "    <tr>\n",
       "      <th>0</th>\n",
       "      <td>7.202818</td>\n",
       "      <td>-0.105117</td>\n",
       "      <td>-0.370410</td>\n",
       "    </tr>\n",
       "    <tr>\n",
       "      <th>1</th>\n",
       "      <td>7.202818</td>\n",
       "      <td>-0.217183</td>\n",
       "      <td>-0.536251</td>\n",
       "    </tr>\n",
       "    <tr>\n",
       "      <th>2</th>\n",
       "      <td>7.202818</td>\n",
       "      <td>-0.510719</td>\n",
       "      <td>-0.258487</td>\n",
       "    </tr>\n",
       "    <tr>\n",
       "      <th>3</th>\n",
       "      <td>7.202818</td>\n",
       "      <td>0.831480</td>\n",
       "      <td>-0.654888</td>\n",
       "    </tr>\n",
       "    <tr>\n",
       "      <th>4</th>\n",
       "      <td>7.202818</td>\n",
       "      <td>-0.854475</td>\n",
       "      <td>0.215617</td>\n",
       "    </tr>\n",
       "  </tbody>\n",
       "</table>\n",
       "</div>"
      ],
      "text/plain": [
       "          y        x0        x1\n",
       "0  7.202818 -0.105117 -0.370410\n",
       "1  7.202818 -0.217183 -0.536251\n",
       "2  7.202818 -0.510719 -0.258487\n",
       "3  7.202818  0.831480 -0.654888\n",
       "4  7.202818 -0.854475  0.215617"
      ]
     },
     "execution_count": 82,
     "metadata": {},
     "output_type": "execute_result"
    }
   ],
   "source": [
    "x = np.random.randn(5,2)\n",
    "y = costly_function(x)\n",
    "print(y)\n",
    "pd.DataFrame(data={'y':y, 'x0':x[:,0], 'x1':x[:,1]})"
   ]
  },
  {
   "cell_type": "code",
   "execution_count": 85,
   "metadata": {},
   "outputs": [],
   "source": [
    "from sklearn.gaussian_process import GaussianProcessRegressor\n",
    "from scipy.stats import norm\n",
    "from scipy.optimize import minimize, rosen, rosen_der\n",
    "import sys\n",
    "import pandas as pd\n",
    "\n",
    "class BayesianOptimizer():\n",
    "      \n",
    "    def __init__(self, target_func, x_init, y_init, n_iter, scale, batch_size):\n",
    "        self.x_init = x_init\n",
    "        self.y_init = y_init\n",
    "        self.target_func = target_func\n",
    "        self.n_iter = n_iter\n",
    "        self.scale = scale\n",
    "        self.batch_size = batch_size\n",
    "        self.gauss_pr = GaussianProcessRegressor()\n",
    "        self.best_samples_ = pd.DataFrame(columns = ['x', 'y', 'ei'])\n",
    "        self.distances_ = []\n",
    "        \n",
    "    def _extend_prior_with_posterior_data(self, x,y):\n",
    "        self.x_init = np.append(self.x_init, np.array([x]), axis = 0)\n",
    "        self.y_init = np.append(self.y_init, np.array(y), axis = 0)\n",
    "        \n",
    "    def _get_expected_improvement(self, x_new):\n",
    "\n",
    "        # Using estimate from Gaussian surrogate instead of actual function for a new trial data point to avoid cost \n",
    " \n",
    "        mean_y_new, sigma_y_new = self.gauss_pr.predict(np.array([x_new]), return_std=True)\n",
    "        sigma_y_new = sigma_y_new.reshape(-1,1)\n",
    "        if sigma_y_new == 0.0:\n",
    "            return 0.0\n",
    "        \n",
    "        # Using estimates from Gaussian surrogate instead of actual function for entire prior distribution to avoid cost\n",
    "        \n",
    "        mean_y = self.gauss_pr.predict(self.x_init)\n",
    "        max_mean_y = np.max(mean_y)\n",
    "        z = (mean_y_new - max_mean_y) / sigma_y_new\n",
    "        exp_imp = (mean_y_new - max_mean_y) * norm.cdf(z) + sigma_y_new * norm.pdf(z)\n",
    "        \n",
    "        return exp_imp[0]\n",
    "        \n",
    "    def _acquisition_function(self, x):\n",
    "        return -self._get_expected_improvement(x)\n",
    "        \n",
    "    def _get_next_probable_point(self):\n",
    "            min_ei = float(sys.maxsize)\n",
    "            x_optimal = None \n",
    "            \n",
    "            # Trial with an array of random data points\n",
    "            bnds = ((0, None), (0, None))\n",
    "            for x_start in (np.random.random((self.batch_size,self.x_init.shape[1])) * self.scale):\n",
    "                # print(np.atleast_1d(x_start).ndim)\n",
    "                # print(np.array(x_start))\n",
    "                # input = []\n",
    "                # for i in x_start:\n",
    "                #     input.append(i)\n",
    "                # print(input.ndim)\n",
    "                response = minimize(fun=self._acquisition_function, x0=x_start, method='L-BFGS-B', tol=1e-6)\n",
    "                if response.fun[0] < min_ei:\n",
    "                    min_ei = response.fun[0]\n",
    "                    x_optimal = response.x\n",
    "            \n",
    "            return x_optimal, min_ei\n",
    "    \n",
    "    def optimize(self):\n",
    "        from tqdm import tqdm \n",
    "        y_max_ind = np.argmax(self.y_init)\n",
    "        print(y_max_ind)\n",
    "        y_max = self.y_init[y_max_ind]\n",
    "        optimal_x = self.x_init[y_max_ind]\n",
    "        optimal_ei = None\n",
    "        for i in tqdm(range(self.n_iter)):\n",
    "            self.gauss_pr.fit(self.x_init, self.y_init)\n",
    "            x_next, ei = self._get_next_probable_point()\n",
    "            y_next = self.target_func(np.array([x_next]))\n",
    "            self._extend_prior_with_posterior_data(x_next,y_next)\n",
    "            \n",
    "            if y_next[0] > y_max:\n",
    "                y_max = y_next[0]\n",
    "                optimal_x = x_next\n",
    "                optimal_ei = ei\n",
    "\n",
    "            if i == 0:\n",
    "                 prev_x = x_next\n",
    "            else:\n",
    "                self.distances_.append(np.linalg.norm(prev_x - x_next))\n",
    "                prev_x = x_next\n",
    "            \n",
    "            self.best_samples_ = self.best_samples_.append({\"y\": y_max, \"ei\": optimal_ei},ignore_index=True)\n",
    "        \n",
    "        return optimal_x, y_max"
   ]
  },
  {
   "cell_type": "code",
   "execution_count": 86,
   "metadata": {},
   "outputs": [
    {
     "name": "stdout",
     "output_type": "stream",
     "text": [
      "10.699999999999996\n",
      "10.700000014901157\n",
      "10.700000014901157\n",
      "10.700000014901157\n",
      "10.700000014901157\n",
      "10.700000014901157\n",
      "10.700000014901157\n",
      "10.700000014901157\n",
      "10.700000014901157\n",
      "10.700000014901157\n",
      "1.7\n",
      "1.7000000149011611\n",
      "1.7000000149011611\n",
      "1.7000000149011611\n",
      "1.7000000149011611\n",
      "1.7000000149011611\n",
      "1.7000000149011611\n",
      "1.7000000149011611\n",
      "1.7000000149011611\n",
      "1.7000000149011611\n",
      "-43.300000000000026\n",
      "-43.299999985098864\n",
      "-43.299999985098864\n",
      "-43.299999985098864\n",
      "-43.299999985098864\n",
      "-43.299999985098864\n",
      "-43.299999985098864\n",
      "-43.299999985098864\n",
      "-43.299999985098864\n",
      "-43.299999985098864\n",
      "-268.3000000000001\n",
      "-268.29999998509896\n",
      "-268.29999998509896\n",
      "-268.29999998509896\n",
      "-268.29999998509896\n",
      "-268.29999998509896\n",
      "-268.29999998509896\n",
      "-268.29999998509896\n",
      "-268.29999998509896\n",
      "-268.29999998509896\n",
      "-1393.300000000001\n",
      "-1393.2999999851\n",
      "-1393.2999999851\n",
      "-1393.2999999851\n",
      "-1393.2999999851\n",
      "-1393.2999999851\n",
      "-1393.2999999851\n",
      "-1393.2999999851\n",
      "-1393.2999999851\n",
      "-1393.2999999851\n",
      "-7018.30000000002\n",
      "-7018.299999985119\n",
      "-7018.299999985119\n",
      "-7018.299999985119\n",
      "-7018.299999985119\n",
      "-7018.299999985119\n",
      "-7018.299999985119\n",
      "-7018.299999985119\n",
      "-7018.299999985119\n",
      "-7018.299999985119\n",
      "-35143.300000000105\n",
      "-35143.2999999852\n",
      "-35143.2999999852\n",
      "-35143.2999999852\n",
      "-35143.2999999852\n",
      "-35143.2999999852\n",
      "-35143.2999999852\n",
      "-35143.2999999852\n",
      "-35143.2999999852\n",
      "-35143.2999999852\n",
      "-175768.30000000022\n",
      "-175768.29999998532\n",
      "-175768.29999998532\n",
      "-175768.29999998532\n",
      "-175768.29999998532\n",
      "-175768.29999998532\n",
      "-175768.29999998532\n",
      "-175768.29999998532\n",
      "-175768.29999998532\n",
      "-175768.29999998532\n",
      "-878893.2999999998\n",
      "-878893.2999999849\n",
      "-878893.2999999849\n",
      "-878893.2999999849\n",
      "-878893.2999999849\n",
      "-878893.2999999849\n",
      "-878893.2999999849\n",
      "-878893.2999999849\n",
      "-878893.2999999849\n",
      "-878893.2999999849\n",
      "-4394518.300000002\n",
      "-4394518.299999987\n",
      "-4394518.299999987\n",
      "-4394518.299999987\n",
      "-4394518.299999987\n",
      "-4394518.299999987\n",
      "-4394518.299999987\n",
      "-4394518.299999987\n",
      "-4394518.299999987\n",
      "-4394518.299999987\n",
      "-21972643.30000002\n",
      "-21972643.300000004\n",
      "-21972643.300000004\n",
      "-21972643.300000004\n",
      "-21972643.300000004\n",
      "-21972643.300000004\n",
      "-21972643.300000004\n",
      "-21972643.300000004\n",
      "-21972643.300000004\n",
      "-21972643.300000004\n",
      "-109863268.30000024\n",
      "-109863268.30000022\n",
      "-109863268.30000022\n",
      "-109863268.30000022\n",
      "-109863268.30000022\n",
      "-109863268.30000022\n",
      "-109863268.30000022\n",
      "-109863268.30000022\n",
      "-109863268.30000022\n",
      "-109863268.30000022\n",
      "-549316393.3000007\n",
      "-549316393.3000007\n",
      "-549316393.3000007\n",
      "-549316393.3000007\n",
      "-549316393.3000007\n",
      "-549316393.3000007\n",
      "-549316393.3000007\n",
      "-549316393.3000007\n",
      "-549316393.3000005\n",
      "-549316393.3000005\n",
      "-4455567513.300003\n",
      "-4455567520.677017\n",
      "-4455567520.677017\n",
      "-4455567520.677017\n",
      "-4455567520.677017\n",
      "-4455567520.677017\n",
      "-4455567520.677017\n",
      "-4455567520.677017\n",
      "-4455567520.677018\n",
      "-4455567520.677018\n",
      "-9477889661.750713\n",
      "-9477889677.443108\n",
      "-9477889677.443108\n",
      "-9477889677.443108\n",
      "-9477889677.443108\n",
      "-9477889677.443108\n",
      "-9477889677.443108\n",
      "-9477889677.443108\n",
      "-9477889677.44311\n",
      "-9477889677.44311\n",
      "-34589498864.788315\n",
      "-34589498922.05761\n",
      "-34589498922.05761\n",
      "-34589498922.05761\n",
      "-34589498922.05761\n",
      "-34589498922.05762\n",
      "-34589498922.05762\n",
      "-34589498922.05762\n",
      "-34589498922.057625\n",
      "-34589498922.05762\n",
      "-160147553020.06067\n",
      "-160147553285.2145\n",
      "-160147553285.2145\n",
      "-160147553285.2145\n",
      "-160147553285.2145\n",
      "-160147553285.21448\n",
      "-160147553285.21448\n",
      "-160147553285.21448\n",
      "-160147553285.2145\n",
      "-160147553285.2145\n",
      "-787937815926.1552\n",
      "-787937817230.7317\n",
      "-787937817230.7317\n",
      "-787937817230.7317\n",
      "-787937817230.7317\n",
      "-787937817230.7317\n",
      "-787937817230.7317\n",
      "-787937817230.7317\n",
      "-787937817230.7317\n",
      "-787937817230.7317\n",
      "-3926889302076.2065\n",
      "-3926889308577.8965\n",
      "-3926889308577.8965\n",
      "-3926889308577.8965\n",
      "-3926889308577.8965\n",
      "-3926889308577.8965\n",
      "-3926889308577.8965\n",
      "-3926889308577.8965\n",
      "-3926889308577.897\n",
      "-3926889308577.897\n",
      "-19621646100524.844\n",
      "-19621646133012.098\n",
      "-19621646133012.098\n",
      "-19621646133012.098\n",
      "-19621646133012.098\n",
      "-19621646133012.098\n",
      "-19621646133012.098\n",
      "-19621646133012.098\n",
      "-19621646133012.1\n",
      "-19621646133012.1\n",
      "-98095424981793.7\n",
      "-98095425144208.78\n",
      "-98095425144208.78\n",
      "-98095425144208.78\n",
      "-98095425144208.78\n",
      "-98095425144208.78\n",
      "-98095425144208.78\n",
      "-98095425144208.78\n",
      "-98095425144208.8\n",
      "-98095425144208.8\n",
      "-490464342321654.4\n",
      "-490464343133708.6\n",
      "-490464343133708.6\n",
      "-490464343133708.6\n",
      "-490464343133708.6\n",
      "-490464343133708.6\n",
      "-490464343133708.6\n",
      "-490464343133708.6\n",
      "-490464343133708.7\n",
      "-490464343133708.7\n",
      "-2452308979876221.0\n",
      "-2452308983936471.5\n",
      "-2452308983936471.5\n",
      "-2452308983936471.5\n",
      "-2452308983936471.5\n",
      "-2452308983936471.5\n",
      "-2452308983936471.0\n",
      "-2452308983936471.0\n",
      "-2452308983936471.5\n",
      "-2452308983936471.5\n",
      "-1.2261532540942594e+16\n",
      "-1.2261532561243824e+16\n",
      "-1.2261532561243824e+16\n",
      "-1.2261532561243824e+16\n",
      "-1.2261532561243824e+16\n",
      "-1.2261532561243824e+16\n",
      "-1.2261532561243824e+16\n",
      "-1.2261532561243824e+16\n",
      "-1.2261532561243826e+16\n",
      "-1.2261532561243826e+16\n",
      "-6.1307647804529864e+16\n",
      "-6.130764790603599e+16\n",
      "-6.130764790603599e+16\n",
      "-6.130764790603599e+16\n",
      "-6.130764790603599e+16\n",
      "-6.130764790603598e+16\n",
      "-6.130764790603599e+16\n",
      "-6.130764790603599e+16\n",
      "-6.1307647906036e+16\n",
      "-6.1307647906036e+16\n",
      "-3.0653822788056256e+17\n",
      "-3.065382283880932e+17\n",
      "-3.065382283880932e+17\n",
      "-3.065382283880932e+17\n",
      "-3.065382283880932e+17\n",
      "-3.065382283880932e+17\n",
      "-3.065382283880932e+17\n",
      "-3.065382283880932e+17\n",
      "-3.0653822838809325e+17\n",
      "-3.065382283880932e+17\n"
     ]
    }
   ],
   "source": [
    "from scipy.optimize import minimize\n",
    "\n",
    "x0=[7.5, 1.1, 1.1, 0.7, 0.7, 0.7, 0.7, -1.0, -0.8]\n",
    "execMode=2\n",
    "other_args=[execMode]\n",
    "\n",
    "def objectiveFunction(x, other_args):\n",
    "    execMode=other_args[0]\n",
    "    print(sum(x))\n",
    "    return sum(x)\n",
    "\n",
    "solution = minimize(objectiveFunction, x0, method='SLSQP', args=other_args)"
   ]
  },
  {
   "cell_type": "code",
   "execution_count": 87,
   "metadata": {},
   "outputs": [
    {
     "data": {
      "text/plain": [
       "1"
      ]
     },
     "execution_count": 87,
     "metadata": {},
     "output_type": "execute_result"
    }
   ],
   "source": [
    "np.atleast_1d([1, 2]).ndim\n"
   ]
  },
  {
   "cell_type": "code",
   "execution_count": 88,
   "metadata": {},
   "outputs": [
    {
     "data": {
      "text/plain": [
       "array([-0.09908809])"
      ]
     },
     "execution_count": 88,
     "metadata": {},
     "output_type": "execute_result"
    }
   ],
   "source": [
    "x_new = np.array([1, 2])\n",
    "_get_expected_improvement(x_new)\n",
    "_acquisition_function(x_new)\n",
    "#_get_next_probable_point()\n"
   ]
  },
  {
   "cell_type": "code",
   "execution_count": 89,
   "metadata": {},
   "outputs": [
    {
     "name": "stdout",
     "output_type": "stream",
     "text": [
      "21.646523475646973\n",
      "0\n"
     ]
    },
    {
     "ename": "IndexError",
     "evalue": "invalid index to scalar variable.",
     "output_type": "error",
     "traceback": [
      "\u001b[0;31m---------------------------------------------------------------------------\u001b[0m",
      "\u001b[0;31mIndexError\u001b[0m                                Traceback (most recent call last)",
      "\u001b[0;32m/tmp/ipykernel_346/820812995.py\u001b[0m in \u001b[0;36m<module>\u001b[0;34m\u001b[0m\n\u001b[1;32m      4\u001b[0m \u001b[0;34m\u001b[0m\u001b[0m\n\u001b[1;32m      5\u001b[0m \u001b[0mbopt\u001b[0m \u001b[0;34m=\u001b[0m \u001b[0mBayesianOptimizer\u001b[0m\u001b[0;34m(\u001b[0m\u001b[0mtarget_func\u001b[0m\u001b[0;34m=\u001b[0m\u001b[0mcostly_function\u001b[0m\u001b[0;34m,\u001b[0m \u001b[0mx_init\u001b[0m\u001b[0;34m=\u001b[0m\u001b[0msample_x\u001b[0m\u001b[0;34m,\u001b[0m \u001b[0my_init\u001b[0m\u001b[0;34m=\u001b[0m\u001b[0msample_y\u001b[0m\u001b[0;34m,\u001b[0m \u001b[0mn_iter\u001b[0m\u001b[0;34m=\u001b[0m\u001b[0;36m200\u001b[0m\u001b[0;34m,\u001b[0m \u001b[0mscale\u001b[0m\u001b[0;34m=\u001b[0m\u001b[0;36m10\u001b[0m\u001b[0;34m,\u001b[0m \u001b[0mbatch_size\u001b[0m\u001b[0;34m=\u001b[0m\u001b[0;36m30\u001b[0m\u001b[0;34m)\u001b[0m\u001b[0;34m\u001b[0m\u001b[0;34m\u001b[0m\u001b[0m\n\u001b[0;32m----> 6\u001b[0;31m \u001b[0mbopt\u001b[0m\u001b[0;34m.\u001b[0m\u001b[0moptimize\u001b[0m\u001b[0;34m(\u001b[0m\u001b[0;34m)\u001b[0m\u001b[0;34m\u001b[0m\u001b[0;34m\u001b[0m\u001b[0m\n\u001b[0m",
      "\u001b[0;32m/tmp/ipykernel_346/876505388.py\u001b[0m in \u001b[0;36moptimize\u001b[0;34m(self)\u001b[0m\n\u001b[1;32m     67\u001b[0m         \u001b[0my_max_ind\u001b[0m \u001b[0;34m=\u001b[0m \u001b[0mnp\u001b[0m\u001b[0;34m.\u001b[0m\u001b[0margmax\u001b[0m\u001b[0;34m(\u001b[0m\u001b[0mself\u001b[0m\u001b[0;34m.\u001b[0m\u001b[0my_init\u001b[0m\u001b[0;34m)\u001b[0m\u001b[0;34m\u001b[0m\u001b[0;34m\u001b[0m\u001b[0m\n\u001b[1;32m     68\u001b[0m         \u001b[0mprint\u001b[0m\u001b[0;34m(\u001b[0m\u001b[0my_max_ind\u001b[0m\u001b[0;34m)\u001b[0m\u001b[0;34m\u001b[0m\u001b[0;34m\u001b[0m\u001b[0m\n\u001b[0;32m---> 69\u001b[0;31m         \u001b[0my_max\u001b[0m \u001b[0;34m=\u001b[0m \u001b[0mself\u001b[0m\u001b[0;34m.\u001b[0m\u001b[0my_init\u001b[0m\u001b[0;34m[\u001b[0m\u001b[0my_max_ind\u001b[0m\u001b[0;34m]\u001b[0m\u001b[0;34m\u001b[0m\u001b[0;34m\u001b[0m\u001b[0m\n\u001b[0m\u001b[1;32m     70\u001b[0m         \u001b[0moptimal_x\u001b[0m \u001b[0;34m=\u001b[0m \u001b[0mself\u001b[0m\u001b[0;34m.\u001b[0m\u001b[0mx_init\u001b[0m\u001b[0;34m[\u001b[0m\u001b[0my_max_ind\u001b[0m\u001b[0;34m]\u001b[0m\u001b[0;34m\u001b[0m\u001b[0;34m\u001b[0m\u001b[0m\n\u001b[1;32m     71\u001b[0m         \u001b[0moptimal_ei\u001b[0m \u001b[0;34m=\u001b[0m \u001b[0;32mNone\u001b[0m\u001b[0;34m\u001b[0m\u001b[0;34m\u001b[0m\u001b[0m\n",
      "\u001b[0;31mIndexError\u001b[0m: invalid index to scalar variable."
     ]
    }
   ],
   "source": [
    "sample_x = np.array([[0.8,0.001],[0.0062,0.53]])\n",
    "sample_y = costly_function(sample_x)\n",
    "print(sample_y)\n",
    "\n",
    "bopt = BayesianOptimizer(target_func=costly_function, x_init=sample_x, y_init=sample_y, n_iter=200, scale=10, batch_size=30)\n",
    "bopt.optimize()"
   ]
  },
  {
   "cell_type": "code",
   "execution_count": 54,
   "metadata": {},
   "outputs": [
    {
     "data": {
      "text/plain": [
       "<AxesSubplot:>"
      ]
     },
     "execution_count": 54,
     "metadata": {},
     "output_type": "execute_result"
    },
    {
     "data": {
      "image/png": "[encoded data removed]",
      "text/plain": [
       "<Figure size 432x288 with 1 Axes>"
      ]
     },
     "metadata": {
      "needs_background": "light"
     },
     "output_type": "display_data"
    }
   ],
   "source": [
    "pd.DataFrame(bopt.distances_).plot()"
   ]
  },
  {
   "cell_type": "code",
   "execution_count": 55,
   "metadata": {
    "scrolled": true
   },
   "outputs": [
    {
     "data": {
      "text/plain": [
       "<AxesSubplot:>"
      ]
     },
     "execution_count": 55,
     "metadata": {},
     "output_type": "execute_result"
    },
    {
     "data": {
      "image/png": "[encoded data removed]",
      "text/plain": [
       "<Figure size 432x288 with 1 Axes>"
      ]
     },
     "metadata": {
      "needs_background": "light"
     },
     "output_type": "display_data"
    }
   ],
   "source": [
    "bopt.best_samples_['y'].plot()"
   ]
  },
  {
   "cell_type": "code",
   "execution_count": 56,
   "metadata": {},
   "outputs": [
    {
     "data": {
      "text/plain": [
       "<AxesSubplot:>"
      ]
     },
     "execution_count": 56,
     "metadata": {},
     "output_type": "execute_result"
    },
    {
     "data": {
      "image/png": "[encoded data removed]",
      "text/plain": [
       "<Figure size 432x288 with 1 Axes>"
      ]
     },
     "metadata": {
      "needs_background": "light"
     },
     "output_type": "display_data"
    }
   ],
   "source": [
    "bopt.best_samples_['ei'].plot()"
   ]
  },
  {
   "cell_type": "code",
   "execution_count": null,
   "metadata": {},
   "outputs": [],
   "source": []
  }
 ],
 "metadata": {
  "interpreter": {
   "hash": "949777d72b0d2535278d3dc13498b2535136f6dfe0678499012e853ee9abcab1"
  },
  "kernelspec": {
   "display_name": "Python 3.9.7 64-bit",
   "name": "python3"
  },
  "language_info": {
   "codemirror_mode": {
    "name": "ipython",
    "version": 3
   },
   "file_extension": ".py",
   "mimetype": "text/x-python",
   "name": "python",
   "nbconvert_exporter": "python",
   "pygments_lexer": "ipython3",
   "version": "3.9.7"
  }
 },
 "nbformat": 4,
 "nbformat_minor": 4
}
